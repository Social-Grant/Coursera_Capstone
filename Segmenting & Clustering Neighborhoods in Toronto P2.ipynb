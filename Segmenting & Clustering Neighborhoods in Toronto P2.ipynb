{
    "nbformat_minor": 1, 
    "cells": [
        {
            "source": "<h1> Segmenting and Clustering Neighbourhoods in Toronto - Week 3 - Part 1 </h1>", 
            "cell_type": "markdown", 
            "metadata": {}
        }, 
        {
            "source": "<h2>Import required libraries</h2>", 
            "cell_type": "markdown", 
            "metadata": {}
        }, 
        {
            "source": "import pandas as pd\nimport numpy as np\nimport requests as req\nimport csv\nfrom bs4 import BeautifulSoup as bsp", 
            "cell_type": "code", 
            "metadata": {}, 
            "outputs": [], 
            "execution_count": 1
        }, 
        {
            "source": "<h2>Get the data from the Wikipedia page for the list of postal codes in Canada</h2>", 
            "cell_type": "markdown", 
            "metadata": {}
        }, 
        {
            "source": "scrape = 'https://en.wikipedia.org/wiki/List_of_postal_codes_of_Canada:_M'\n\ndf = pd.read_html(scrape)", 
            "cell_type": "code", 
            "metadata": {}, 
            "outputs": [], 
            "execution_count": 2
        }, 
        {
            "source": "<h3>Read the data on the page</h3>", 
            "cell_type": "markdown", 
            "metadata": {}
        }, 
        {
            "source": "df[0]", 
            "cell_type": "code", 
            "metadata": {}, 
            "outputs": [
                {
                    "output_type": "execute_result", 
                    "data": {
                        "text/html": "<div>\n<style scoped>\n    .dataframe tbody tr th:only-of-type {\n        vertical-align: middle;\n    }\n\n    .dataframe tbody tr th {\n        vertical-align: top;\n    }\n\n    .dataframe thead th {\n        text-align: right;\n    }\n</style>\n<table border=\"1\" class=\"dataframe\">\n  <thead>\n    <tr style=\"text-align: right;\">\n      <th></th>\n      <th>0</th>\n      <th>1</th>\n      <th>2</th>\n    </tr>\n  </thead>\n  <tbody>\n    <tr>\n      <th>0</th>\n      <td>Postcode</td>\n      <td>Borough</td>\n      <td>Neighbourhood</td>\n    </tr>\n    <tr>\n      <th>1</th>\n      <td>M1A</td>\n      <td>Not assigned</td>\n      <td>Not assigned</td>\n    </tr>\n    <tr>\n      <th>2</th>\n      <td>M2A</td>\n      <td>Not assigned</td>\n      <td>Not assigned</td>\n    </tr>\n    <tr>\n      <th>3</th>\n      <td>M3A</td>\n      <td>North York</td>\n      <td>Parkwoods</td>\n    </tr>\n    <tr>\n      <th>4</th>\n      <td>M4A</td>\n      <td>North York</td>\n      <td>Victoria Village</td>\n    </tr>\n    <tr>\n      <th>5</th>\n      <td>M5A</td>\n      <td>Downtown Toronto</td>\n      <td>Harbourfront</td>\n    </tr>\n    <tr>\n      <th>6</th>\n      <td>M5A</td>\n      <td>Downtown Toronto</td>\n      <td>Regent Park</td>\n    </tr>\n    <tr>\n      <th>7</th>\n      <td>M6A</td>\n      <td>North York</td>\n      <td>Lawrence Heights</td>\n    </tr>\n    <tr>\n      <th>8</th>\n      <td>M6A</td>\n      <td>North York</td>\n      <td>Lawrence Manor</td>\n    </tr>\n    <tr>\n      <th>9</th>\n      <td>M7A</td>\n      <td>Queen's Park</td>\n      <td>Not assigned</td>\n    </tr>\n    <tr>\n      <th>10</th>\n      <td>M8A</td>\n      <td>Not assigned</td>\n      <td>Not assigned</td>\n    </tr>\n    <tr>\n      <th>11</th>\n      <td>M9A</td>\n      <td>Etobicoke</td>\n      <td>Islington Avenue</td>\n    </tr>\n    <tr>\n      <th>12</th>\n      <td>M1B</td>\n      <td>Scarborough</td>\n      <td>Rouge</td>\n    </tr>\n    <tr>\n      <th>13</th>\n      <td>M1B</td>\n      <td>Scarborough</td>\n      <td>Malvern</td>\n    </tr>\n    <tr>\n      <th>14</th>\n      <td>M2B</td>\n      <td>Not assigned</td>\n      <td>Not assigned</td>\n    </tr>\n    <tr>\n      <th>15</th>\n      <td>M3B</td>\n      <td>North York</td>\n      <td>Don Mills North</td>\n    </tr>\n    <tr>\n      <th>16</th>\n      <td>M4B</td>\n      <td>East York</td>\n      <td>Woodbine Gardens</td>\n    </tr>\n    <tr>\n      <th>17</th>\n      <td>M4B</td>\n      <td>East York</td>\n      <td>Parkview Hill</td>\n    </tr>\n    <tr>\n      <th>18</th>\n      <td>M5B</td>\n      <td>Downtown Toronto</td>\n      <td>Ryerson</td>\n    </tr>\n    <tr>\n      <th>19</th>\n      <td>M5B</td>\n      <td>Downtown Toronto</td>\n      <td>Garden District</td>\n    </tr>\n    <tr>\n      <th>20</th>\n      <td>M6B</td>\n      <td>North York</td>\n      <td>Glencairn</td>\n    </tr>\n    <tr>\n      <th>21</th>\n      <td>M7B</td>\n      <td>Not assigned</td>\n      <td>Not assigned</td>\n    </tr>\n    <tr>\n      <th>22</th>\n      <td>M8B</td>\n      <td>Not assigned</td>\n      <td>Not assigned</td>\n    </tr>\n    <tr>\n      <th>23</th>\n      <td>M9B</td>\n      <td>Etobicoke</td>\n      <td>Cloverdale</td>\n    </tr>\n    <tr>\n      <th>24</th>\n      <td>M9B</td>\n      <td>Etobicoke</td>\n      <td>Islington</td>\n    </tr>\n    <tr>\n      <th>25</th>\n      <td>M9B</td>\n      <td>Etobicoke</td>\n      <td>Martin Grove</td>\n    </tr>\n    <tr>\n      <th>26</th>\n      <td>M9B</td>\n      <td>Etobicoke</td>\n      <td>Princess Gardens</td>\n    </tr>\n    <tr>\n      <th>27</th>\n      <td>M9B</td>\n      <td>Etobicoke</td>\n      <td>West Deane Park</td>\n    </tr>\n    <tr>\n      <th>28</th>\n      <td>M1C</td>\n      <td>Scarborough</td>\n      <td>Highland Creek</td>\n    </tr>\n    <tr>\n      <th>29</th>\n      <td>M1C</td>\n      <td>Scarborough</td>\n      <td>Rouge Hill</td>\n    </tr>\n    <tr>\n      <th>...</th>\n      <td>...</td>\n      <td>...</td>\n      <td>...</td>\n    </tr>\n    <tr>\n      <th>259</th>\n      <td>M9X</td>\n      <td>Not assigned</td>\n      <td>Not assigned</td>\n    </tr>\n    <tr>\n      <th>260</th>\n      <td>M1Y</td>\n      <td>Not assigned</td>\n      <td>Not assigned</td>\n    </tr>\n    <tr>\n      <th>261</th>\n      <td>M2Y</td>\n      <td>Not assigned</td>\n      <td>Not assigned</td>\n    </tr>\n    <tr>\n      <th>262</th>\n      <td>M3Y</td>\n      <td>Not assigned</td>\n      <td>Not assigned</td>\n    </tr>\n    <tr>\n      <th>263</th>\n      <td>M4Y</td>\n      <td>Downtown Toronto</td>\n      <td>Church and Wellesley</td>\n    </tr>\n    <tr>\n      <th>264</th>\n      <td>M5Y</td>\n      <td>Not assigned</td>\n      <td>Not assigned</td>\n    </tr>\n    <tr>\n      <th>265</th>\n      <td>M6Y</td>\n      <td>Not assigned</td>\n      <td>Not assigned</td>\n    </tr>\n    <tr>\n      <th>266</th>\n      <td>M7Y</td>\n      <td>East Toronto</td>\n      <td>Business Reply Mail Processing Centre 969 Eastern</td>\n    </tr>\n    <tr>\n      <th>267</th>\n      <td>M8Y</td>\n      <td>Etobicoke</td>\n      <td>Humber Bay</td>\n    </tr>\n    <tr>\n      <th>268</th>\n      <td>M8Y</td>\n      <td>Etobicoke</td>\n      <td>King's Mill Park</td>\n    </tr>\n    <tr>\n      <th>269</th>\n      <td>M8Y</td>\n      <td>Etobicoke</td>\n      <td>Kingsway Park South East</td>\n    </tr>\n    <tr>\n      <th>270</th>\n      <td>M8Y</td>\n      <td>Etobicoke</td>\n      <td>Mimico NE</td>\n    </tr>\n    <tr>\n      <th>271</th>\n      <td>M8Y</td>\n      <td>Etobicoke</td>\n      <td>Old Mill South</td>\n    </tr>\n    <tr>\n      <th>272</th>\n      <td>M8Y</td>\n      <td>Etobicoke</td>\n      <td>The Queensway East</td>\n    </tr>\n    <tr>\n      <th>273</th>\n      <td>M8Y</td>\n      <td>Etobicoke</td>\n      <td>Royal York South East</td>\n    </tr>\n    <tr>\n      <th>274</th>\n      <td>M8Y</td>\n      <td>Etobicoke</td>\n      <td>Sunnylea</td>\n    </tr>\n    <tr>\n      <th>275</th>\n      <td>M9Y</td>\n      <td>Not assigned</td>\n      <td>Not assigned</td>\n    </tr>\n    <tr>\n      <th>276</th>\n      <td>M1Z</td>\n      <td>Not assigned</td>\n      <td>Not assigned</td>\n    </tr>\n    <tr>\n      <th>277</th>\n      <td>M2Z</td>\n      <td>Not assigned</td>\n      <td>Not assigned</td>\n    </tr>\n    <tr>\n      <th>278</th>\n      <td>M3Z</td>\n      <td>Not assigned</td>\n      <td>Not assigned</td>\n    </tr>\n    <tr>\n      <th>279</th>\n      <td>M4Z</td>\n      <td>Not assigned</td>\n      <td>Not assigned</td>\n    </tr>\n    <tr>\n      <th>280</th>\n      <td>M5Z</td>\n      <td>Not assigned</td>\n      <td>Not assigned</td>\n    </tr>\n    <tr>\n      <th>281</th>\n      <td>M6Z</td>\n      <td>Not assigned</td>\n      <td>Not assigned</td>\n    </tr>\n    <tr>\n      <th>282</th>\n      <td>M7Z</td>\n      <td>Not assigned</td>\n      <td>Not assigned</td>\n    </tr>\n    <tr>\n      <th>283</th>\n      <td>M8Z</td>\n      <td>Etobicoke</td>\n      <td>Kingsway Park South West</td>\n    </tr>\n    <tr>\n      <th>284</th>\n      <td>M8Z</td>\n      <td>Etobicoke</td>\n      <td>Mimico NW</td>\n    </tr>\n    <tr>\n      <th>285</th>\n      <td>M8Z</td>\n      <td>Etobicoke</td>\n      <td>The Queensway West</td>\n    </tr>\n    <tr>\n      <th>286</th>\n      <td>M8Z</td>\n      <td>Etobicoke</td>\n      <td>Royal York South West</td>\n    </tr>\n    <tr>\n      <th>287</th>\n      <td>M8Z</td>\n      <td>Etobicoke</td>\n      <td>South of Bloor</td>\n    </tr>\n    <tr>\n      <th>288</th>\n      <td>M9Z</td>\n      <td>Not assigned</td>\n      <td>Not assigned</td>\n    </tr>\n  </tbody>\n</table>\n<p>289 rows \u00d7 3 columns</p>\n</div>", 
                        "text/plain": "            0                 1  \\\n0    Postcode           Borough   \n1         M1A      Not assigned   \n2         M2A      Not assigned   \n3         M3A        North York   \n4         M4A        North York   \n5         M5A  Downtown Toronto   \n6         M5A  Downtown Toronto   \n7         M6A        North York   \n8         M6A        North York   \n9         M7A      Queen's Park   \n10        M8A      Not assigned   \n11        M9A         Etobicoke   \n12        M1B       Scarborough   \n13        M1B       Scarborough   \n14        M2B      Not assigned   \n15        M3B        North York   \n16        M4B         East York   \n17        M4B         East York   \n18        M5B  Downtown Toronto   \n19        M5B  Downtown Toronto   \n20        M6B        North York   \n21        M7B      Not assigned   \n22        M8B      Not assigned   \n23        M9B         Etobicoke   \n24        M9B         Etobicoke   \n25        M9B         Etobicoke   \n26        M9B         Etobicoke   \n27        M9B         Etobicoke   \n28        M1C       Scarborough   \n29        M1C       Scarborough   \n..        ...               ...   \n259       M9X      Not assigned   \n260       M1Y      Not assigned   \n261       M2Y      Not assigned   \n262       M3Y      Not assigned   \n263       M4Y  Downtown Toronto   \n264       M5Y      Not assigned   \n265       M6Y      Not assigned   \n266       M7Y      East Toronto   \n267       M8Y         Etobicoke   \n268       M8Y         Etobicoke   \n269       M8Y         Etobicoke   \n270       M8Y         Etobicoke   \n271       M8Y         Etobicoke   \n272       M8Y         Etobicoke   \n273       M8Y         Etobicoke   \n274       M8Y         Etobicoke   \n275       M9Y      Not assigned   \n276       M1Z      Not assigned   \n277       M2Z      Not assigned   \n278       M3Z      Not assigned   \n279       M4Z      Not assigned   \n280       M5Z      Not assigned   \n281       M6Z      Not assigned   \n282       M7Z      Not assigned   \n283       M8Z         Etobicoke   \n284       M8Z         Etobicoke   \n285       M8Z         Etobicoke   \n286       M8Z         Etobicoke   \n287       M8Z         Etobicoke   \n288       M9Z      Not assigned   \n\n                                                     2  \n0                                        Neighbourhood  \n1                                         Not assigned  \n2                                         Not assigned  \n3                                            Parkwoods  \n4                                     Victoria Village  \n5                                         Harbourfront  \n6                                          Regent Park  \n7                                     Lawrence Heights  \n8                                       Lawrence Manor  \n9                                         Not assigned  \n10                                        Not assigned  \n11                                    Islington Avenue  \n12                                               Rouge  \n13                                             Malvern  \n14                                        Not assigned  \n15                                     Don Mills North  \n16                                    Woodbine Gardens  \n17                                       Parkview Hill  \n18                                             Ryerson  \n19                                     Garden District  \n20                                           Glencairn  \n21                                        Not assigned  \n22                                        Not assigned  \n23                                          Cloverdale  \n24                                           Islington  \n25                                        Martin Grove  \n26                                    Princess Gardens  \n27                                     West Deane Park  \n28                                      Highland Creek  \n29                                          Rouge Hill  \n..                                                 ...  \n259                                       Not assigned  \n260                                       Not assigned  \n261                                       Not assigned  \n262                                       Not assigned  \n263                               Church and Wellesley  \n264                                       Not assigned  \n265                                       Not assigned  \n266  Business Reply Mail Processing Centre 969 Eastern  \n267                                         Humber Bay  \n268                                   King's Mill Park  \n269                           Kingsway Park South East  \n270                                          Mimico NE  \n271                                     Old Mill South  \n272                                 The Queensway East  \n273                              Royal York South East  \n274                                           Sunnylea  \n275                                       Not assigned  \n276                                       Not assigned  \n277                                       Not assigned  \n278                                       Not assigned  \n279                                       Not assigned  \n280                                       Not assigned  \n281                                       Not assigned  \n282                                       Not assigned  \n283                           Kingsway Park South West  \n284                                          Mimico NW  \n285                                 The Queensway West  \n286                              Royal York South West  \n287                                     South of Bloor  \n288                                       Not assigned  \n\n[289 rows x 3 columns]"
                    }, 
                    "execution_count": 3, 
                    "metadata": {}
                }
            ], 
            "execution_count": 3
        }, 
        {
            "source": "<h2>Convert the above data into a dataframe and clean it.</h2>", 
            "cell_type": "markdown", 
            "metadata": {}
        }, 
        {
            "source": "<h3>Convert the dataframe</h3>", 
            "cell_type": "markdown", 
            "metadata": {}
        }, 
        {
            "source": "df_tronto=pd.DataFrame(df[0])\ndf_tronto.rename(index=int, columns={0:'PostalCode', 1:'Borough', 2:'Neighborhood'}, inplace=True)\n\ndf_tronto.head()", 
            "cell_type": "code", 
            "metadata": {}, 
            "outputs": [
                {
                    "output_type": "execute_result", 
                    "data": {
                        "text/html": "<div>\n<style scoped>\n    .dataframe tbody tr th:only-of-type {\n        vertical-align: middle;\n    }\n\n    .dataframe tbody tr th {\n        vertical-align: top;\n    }\n\n    .dataframe thead th {\n        text-align: right;\n    }\n</style>\n<table border=\"1\" class=\"dataframe\">\n  <thead>\n    <tr style=\"text-align: right;\">\n      <th></th>\n      <th>PostalCode</th>\n      <th>Borough</th>\n      <th>Neighborhood</th>\n    </tr>\n  </thead>\n  <tbody>\n    <tr>\n      <th>0</th>\n      <td>Postcode</td>\n      <td>Borough</td>\n      <td>Neighbourhood</td>\n    </tr>\n    <tr>\n      <th>1</th>\n      <td>M1A</td>\n      <td>Not assigned</td>\n      <td>Not assigned</td>\n    </tr>\n    <tr>\n      <th>2</th>\n      <td>M2A</td>\n      <td>Not assigned</td>\n      <td>Not assigned</td>\n    </tr>\n    <tr>\n      <th>3</th>\n      <td>M3A</td>\n      <td>North York</td>\n      <td>Parkwoods</td>\n    </tr>\n    <tr>\n      <th>4</th>\n      <td>M4A</td>\n      <td>North York</td>\n      <td>Victoria Village</td>\n    </tr>\n  </tbody>\n</table>\n</div>", 
                        "text/plain": "  PostalCode       Borough      Neighborhood\n0   Postcode       Borough     Neighbourhood\n1        M1A  Not assigned      Not assigned\n2        M2A  Not assigned      Not assigned\n3        M3A    North York         Parkwoods\n4        M4A    North York  Victoria Village"
                    }, 
                    "execution_count": 4, 
                    "metadata": {}
                }
            ], 
            "execution_count": 4
        }, 
        {
            "source": "<h3>Clean the dataframe</h3>", 
            "cell_type": "markdown", 
            "metadata": {}
        }, 
        {
            "source": "df_tc=df_tronto[df_tronto['Borough']!='Not assigned'].copy()\ndf_tc['Neighborhood'].replace('Not assigned',  df_tronto.Borough, inplace=True)\ndf_tc.drop(0, inplace=True)\n\ndf_tc.head()", 
            "cell_type": "code", 
            "metadata": {}, 
            "outputs": [
                {
                    "output_type": "execute_result", 
                    "data": {
                        "text/html": "<div>\n<style scoped>\n    .dataframe tbody tr th:only-of-type {\n        vertical-align: middle;\n    }\n\n    .dataframe tbody tr th {\n        vertical-align: top;\n    }\n\n    .dataframe thead th {\n        text-align: right;\n    }\n</style>\n<table border=\"1\" class=\"dataframe\">\n  <thead>\n    <tr style=\"text-align: right;\">\n      <th></th>\n      <th>PostalCode</th>\n      <th>Borough</th>\n      <th>Neighborhood</th>\n    </tr>\n  </thead>\n  <tbody>\n    <tr>\n      <th>3</th>\n      <td>M3A</td>\n      <td>North York</td>\n      <td>Parkwoods</td>\n    </tr>\n    <tr>\n      <th>4</th>\n      <td>M4A</td>\n      <td>North York</td>\n      <td>Victoria Village</td>\n    </tr>\n    <tr>\n      <th>5</th>\n      <td>M5A</td>\n      <td>Downtown Toronto</td>\n      <td>Harbourfront</td>\n    </tr>\n    <tr>\n      <th>6</th>\n      <td>M5A</td>\n      <td>Downtown Toronto</td>\n      <td>Regent Park</td>\n    </tr>\n    <tr>\n      <th>7</th>\n      <td>M6A</td>\n      <td>North York</td>\n      <td>Lawrence Heights</td>\n    </tr>\n  </tbody>\n</table>\n</div>", 
                        "text/plain": "  PostalCode           Borough      Neighborhood\n3        M3A        North York         Parkwoods\n4        M4A        North York  Victoria Village\n5        M5A  Downtown Toronto      Harbourfront\n6        M5A  Downtown Toronto       Regent Park\n7        M6A        North York  Lawrence Heights"
                    }, 
                    "execution_count": 5, 
                    "metadata": {}
                }
            ], 
            "execution_count": 5
        }, 
        {
            "source": "<h2>Grouping the dataframe to combine the postal codes</h2>", 
            "cell_type": "markdown", 
            "metadata": {}
        }, 
        {
            "source": "df_tcf= df_tc.groupby('PostalCode').agg({'Borough':'first', 'Neighborhood': ', '.join,}).reset_index()\n\ndf_tcf.head()", 
            "cell_type": "code", 
            "metadata": {}, 
            "outputs": [
                {
                    "output_type": "execute_result", 
                    "data": {
                        "text/html": "<div>\n<style scoped>\n    .dataframe tbody tr th:only-of-type {\n        vertical-align: middle;\n    }\n\n    .dataframe tbody tr th {\n        vertical-align: top;\n    }\n\n    .dataframe thead th {\n        text-align: right;\n    }\n</style>\n<table border=\"1\" class=\"dataframe\">\n  <thead>\n    <tr style=\"text-align: right;\">\n      <th></th>\n      <th>PostalCode</th>\n      <th>Borough</th>\n      <th>Neighborhood</th>\n    </tr>\n  </thead>\n  <tbody>\n    <tr>\n      <th>0</th>\n      <td>M1B</td>\n      <td>Scarborough</td>\n      <td>Rouge, Malvern</td>\n    </tr>\n    <tr>\n      <th>1</th>\n      <td>M1C</td>\n      <td>Scarborough</td>\n      <td>Highland Creek, Rouge Hill, Port Union</td>\n    </tr>\n    <tr>\n      <th>2</th>\n      <td>M1E</td>\n      <td>Scarborough</td>\n      <td>Guildwood, Morningside, West Hill</td>\n    </tr>\n    <tr>\n      <th>3</th>\n      <td>M1G</td>\n      <td>Scarborough</td>\n      <td>Woburn</td>\n    </tr>\n    <tr>\n      <th>4</th>\n      <td>M1H</td>\n      <td>Scarborough</td>\n      <td>Cedarbrae</td>\n    </tr>\n  </tbody>\n</table>\n</div>", 
                        "text/plain": "  PostalCode      Borough                            Neighborhood\n0        M1B  Scarborough                          Rouge, Malvern\n1        M1C  Scarborough  Highland Creek, Rouge Hill, Port Union\n2        M1E  Scarborough       Guildwood, Morningside, West Hill\n3        M1G  Scarborough                                  Woburn\n4        M1H  Scarborough                               Cedarbrae"
                    }, 
                    "execution_count": 6, 
                    "metadata": {}
                }
            ], 
            "execution_count": 6
        }, 
        {
            "source": "<h1>Get the CSV file containing the Geospatial data</h1>", 
            "cell_type": "markdown", 
            "metadata": {}
        }, 
        {
            "source": "!wget -O GeoCord.csv http://cocl.us/Geospatial_data/", 
            "cell_type": "code", 
            "metadata": {}, 
            "outputs": [
                {
                    "output_type": "stream", 
                    "name": "stdout", 
                    "text": "--2019-05-26 17:18:38--  http://cocl.us/Geospatial_data/\nResolving cocl.us (cocl.us)... 169.48.113.201\nConnecting to cocl.us (cocl.us)|169.48.113.201|:80... connected.\nHTTP request sent, awaiting response... 301 Moved Permanently\nLocation: https://cocl.us/Geospatial_data/ [following]\n--2019-05-26 17:18:38--  https://cocl.us/Geospatial_data/\nConnecting to cocl.us (cocl.us)|169.48.113.201|:443... connected.\nHTTP request sent, awaiting response... 301 Moved Permanently\nLocation: https://ibm.box.com/shared/static/9afzr83pps4pwf2smjjcf1y5mvgb18rr.csv [following]\n--2019-05-26 17:18:39--  https://ibm.box.com/shared/static/9afzr83pps4pwf2smjjcf1y5mvgb18rr.csv\nResolving ibm.box.com (ibm.box.com)... 107.152.27.197\nConnecting to ibm.box.com (ibm.box.com)|107.152.27.197|:443... connected.\nHTTP request sent, awaiting response... 301 Moved Permanently\nLocation: /public/static/9afzr83pps4pwf2smjjcf1y5mvgb18rr.csv [following]\n--2019-05-26 17:18:39--  https://ibm.box.com/public/static/9afzr83pps4pwf2smjjcf1y5mvgb18rr.csv\nReusing existing connection to ibm.box.com:443.\nHTTP request sent, awaiting response... 301 Moved Permanently\nLocation: https://ibm.ent.box.com/public/static/9afzr83pps4pwf2smjjcf1y5mvgb18rr.csv [following]\n--2019-05-26 17:18:39--  https://ibm.ent.box.com/public/static/9afzr83pps4pwf2smjjcf1y5mvgb18rr.csv\nResolving ibm.ent.box.com (ibm.ent.box.com)... 107.152.25.211, 107.152.24.211\nConnecting to ibm.ent.box.com (ibm.ent.box.com)|107.152.25.211|:443... connected.\nHTTP request sent, awaiting response... 302 Found\nLocation: https://public.boxcloud.com/d/1/b1!QNMoqYcSmXAMaS2gN5Esl4dhnZRbJX83_huXJQ3D5axPf-gG6s88hXKD5WLxdD8ezO09OIY4zHQ-8aDv0BeYvWUKNgkVlSlABUJqNefE5v2sAL_ab6EZAOhKFTgtoc2mmBJFTeXcRJ5P7ZMLrtW2Yh6R6U_peBB29UXS4k6L_NBElHLj1WXOTqv0hoo_Nz9pceRNb7y11PJW7PlJn5vMf_JCHW2qioDjRmrpBSIu-MlcBzHKmFvRiW94HFcwamuTcvrwm05UfvNBTZsH0hsNVMeWuU9aeXrEYTy5rd2kHEHnvWrY_LYrux1cvKs2Axfs6nyuf1OOkaL0MA8amjRdOhXEtvWsKiKb6yklQf-3NMoFHlVOMykwXGRqRDJ64FAjvydCmzbS0heZDnbKuNTQE-36JWkpDpA1QGFqbVfRAVARLz8hq58sKlz95Pt0N8t0beRUMDuJEpiK2cZ1azJ4SNBjQXMYdFgLDrSkhtwV5_mrXmadsFZjbLj-RvtCY_v9pMN5LJK_i1OB2ByryRGAzglumad1zw_kq46Ku5C9RJKvMdOongzyJ8YnLw96uTUKLQjWA0HhJTgw3nT1zlNI4feuPXyIOeneHGf19DI-_13gru3_TI6ZtmUFhYui0xLpfvn4SADLnp9LKFbbos3lI_3cweXK8DzzbYAlXYrezwvUJ8t5KCb433w--thMT8qOu22A-nhPA0chywXigL-404rfUhca0leLP0hBsfpSRwE0XstfNd_B_vTfc9FPpWJKqhfYwOFtpgKeftnFgFoHm1kpIIOypwaAJqUn_sDM0LRW1Bp0qKNo7n1ZwZl__Rb65kr72Z8TcbjOPRqI-apQgIkvdcddm0eN1p3Pkl-d4wsrAY_i26MAmOWgH-kkfVXX18-DeFH6_ALVxMUwgXI7KiMFsiwW5SO2ZRaDKMNXnV0TOIJiEYJxlf9QVbRgqxdPwMDs4DPjQ6qAshXVjyVniQNR6wBuXem76UrmHpRZ84yFCY-pBKBwu_EaI9862zT-ql4Yv13FlTpgvY-Mdz8S_NfYlQ8vkGkQQGUB1-bHyNW1-sU4hyPpb5NWRU5qHIr_PLfDWQSQ9eTmafWhYl44KL-QrgfCWpJA0-MzsdZFDQZh-i2wXUtfbmQ0cc-ss10q-jorQUMT9b0NE6vmCYI8Y4ZSHpqbQCR3D9GLYH_MJ5gFlIFhk7oMp0Sh-YpanoEsapBh6ZLx_MPqWxdb7iSFMxVXQGGzG9hL4nkFZOMNAXN0wcuKC7g-SdPsVFhQZ1aeEOMyLdG5n91y-WceP85lYlRgrv_7LAeVHnCcEjbFNCVJ5ZVD9R7TWdiwzqOzuF7-4KsUMXpFgUeEP0-5CadDzRyIahjH-05FAsHoqN_MXptLDruyMvmKOec./download [following]\n--2019-05-26 17:18:40--  https://public.boxcloud.com/d/1/b1!QNMoqYcSmXAMaS2gN5Esl4dhnZRbJX83_huXJQ3D5axPf-gG6s88hXKD5WLxdD8ezO09OIY4zHQ-8aDv0BeYvWUKNgkVlSlABUJqNefE5v2sAL_ab6EZAOhKFTgtoc2mmBJFTeXcRJ5P7ZMLrtW2Yh6R6U_peBB29UXS4k6L_NBElHLj1WXOTqv0hoo_Nz9pceRNb7y11PJW7PlJn5vMf_JCHW2qioDjRmrpBSIu-MlcBzHKmFvRiW94HFcwamuTcvrwm05UfvNBTZsH0hsNVMeWuU9aeXrEYTy5rd2kHEHnvWrY_LYrux1cvKs2Axfs6nyuf1OOkaL0MA8amjRdOhXEtvWsKiKb6yklQf-3NMoFHlVOMykwXGRqRDJ64FAjvydCmzbS0heZDnbKuNTQE-36JWkpDpA1QGFqbVfRAVARLz8hq58sKlz95Pt0N8t0beRUMDuJEpiK2cZ1azJ4SNBjQXMYdFgLDrSkhtwV5_mrXmadsFZjbLj-RvtCY_v9pMN5LJK_i1OB2ByryRGAzglumad1zw_kq46Ku5C9RJKvMdOongzyJ8YnLw96uTUKLQjWA0HhJTgw3nT1zlNI4feuPXyIOeneHGf19DI-_13gru3_TI6ZtmUFhYui0xLpfvn4SADLnp9LKFbbos3lI_3cweXK8DzzbYAlXYrezwvUJ8t5KCb433w--thMT8qOu22A-nhPA0chywXigL-404rfUhca0leLP0hBsfpSRwE0XstfNd_B_vTfc9FPpWJKqhfYwOFtpgKeftnFgFoHm1kpIIOypwaAJqUn_sDM0LRW1Bp0qKNo7n1ZwZl__Rb65kr72Z8TcbjOPRqI-apQgIkvdcddm0eN1p3Pkl-d4wsrAY_i26MAmOWgH-kkfVXX18-DeFH6_ALVxMUwgXI7KiMFsiwW5SO2ZRaDKMNXnV0TOIJiEYJxlf9QVbRgqxdPwMDs4DPjQ6qAshXVjyVniQNR6wBuXem76UrmHpRZ84yFCY-pBKBwu_EaI9862zT-ql4Yv13FlTpgvY-Mdz8S_NfYlQ8vkGkQQGUB1-bHyNW1-sU4hyPpb5NWRU5qHIr_PLfDWQSQ9eTmafWhYl44KL-QrgfCWpJA0-MzsdZFDQZh-i2wXUtfbmQ0cc-ss10q-jorQUMT9b0NE6vmCYI8Y4ZSHpqbQCR3D9GLYH_MJ5gFlIFhk7oMp0Sh-YpanoEsapBh6ZLx_MPqWxdb7iSFMxVXQGGzG9hL4nkFZOMNAXN0wcuKC7g-SdPsVFhQZ1aeEOMyLdG5n91y-WceP85lYlRgrv_7LAeVHnCcEjbFNCVJ5ZVD9R7TWdiwzqOzuF7-4KsUMXpFgUeEP0-5CadDzRyIahjH-05FAsHoqN_MXptLDruyMvmKOec./download\nResolving public.boxcloud.com (public.boxcloud.com)... 107.152.27.200\nConnecting to public.boxcloud.com (public.boxcloud.com)|107.152.27.200|:443... connected.\nHTTP request sent, awaiting response... 200 OK\nLength: 2891 (2.8K) [text/csv]\nSaving to: \u2018GeoCord.csv\u2019\n\n100%[======================================>] 2,891       --.-K/s   in 0s      \n\n2019-05-26 17:18:41 (425 MB/s) - \u2018GeoCord.csv\u2019 saved [2891/2891]\n\n"
                }
            ], 
            "execution_count": 7
        }, 
        {
            "source": "<h2>Create the data frame using the data</h2>", 
            "cell_type": "markdown", 
            "metadata": {}
        }, 
        {
            "source": "df_gc = pd.read_csv('GeoCord.csv')\ndf_gc.head()", 
            "cell_type": "code", 
            "metadata": {}, 
            "outputs": [
                {
                    "output_type": "execute_result", 
                    "data": {
                        "text/html": "<div>\n<style scoped>\n    .dataframe tbody tr th:only-of-type {\n        vertical-align: middle;\n    }\n\n    .dataframe tbody tr th {\n        vertical-align: top;\n    }\n\n    .dataframe thead th {\n        text-align: right;\n    }\n</style>\n<table border=\"1\" class=\"dataframe\">\n  <thead>\n    <tr style=\"text-align: right;\">\n      <th></th>\n      <th>Postal Code</th>\n      <th>Latitude</th>\n      <th>Longitude</th>\n    </tr>\n  </thead>\n  <tbody>\n    <tr>\n      <th>0</th>\n      <td>M1B</td>\n      <td>43.806686</td>\n      <td>-79.194353</td>\n    </tr>\n    <tr>\n      <th>1</th>\n      <td>M1C</td>\n      <td>43.784535</td>\n      <td>-79.160497</td>\n    </tr>\n    <tr>\n      <th>2</th>\n      <td>M1E</td>\n      <td>43.763573</td>\n      <td>-79.188711</td>\n    </tr>\n    <tr>\n      <th>3</th>\n      <td>M1G</td>\n      <td>43.770992</td>\n      <td>-79.216917</td>\n    </tr>\n    <tr>\n      <th>4</th>\n      <td>M1H</td>\n      <td>43.773136</td>\n      <td>-79.239476</td>\n    </tr>\n  </tbody>\n</table>\n</div>", 
                        "text/plain": "  Postal Code   Latitude  Longitude\n0         M1B  43.806686 -79.194353\n1         M1C  43.784535 -79.160497\n2         M1E  43.763573 -79.188711\n3         M1G  43.770992 -79.216917\n4         M1H  43.773136 -79.239476"
                    }, 
                    "execution_count": 9, 
                    "metadata": {}
                }
            ], 
            "execution_count": 9
        }, 
        {
            "source": "<h2>Change Postal Code name to PostalCode in order to merge the 2 files</h2>", 
            "cell_type": "markdown", 
            "metadata": {}
        }, 
        {
            "source": "df_gc.rename(index=int, columns={'Postal Code':'PostalCode'}, inplace=True)\n\ndf_gc.head(2)", 
            "cell_type": "code", 
            "metadata": {}, 
            "outputs": [
                {
                    "output_type": "execute_result", 
                    "data": {
                        "text/html": "<div>\n<style scoped>\n    .dataframe tbody tr th:only-of-type {\n        vertical-align: middle;\n    }\n\n    .dataframe tbody tr th {\n        vertical-align: top;\n    }\n\n    .dataframe thead th {\n        text-align: right;\n    }\n</style>\n<table border=\"1\" class=\"dataframe\">\n  <thead>\n    <tr style=\"text-align: right;\">\n      <th></th>\n      <th>PostalCode</th>\n      <th>Latitude</th>\n      <th>Longitude</th>\n    </tr>\n  </thead>\n  <tbody>\n    <tr>\n      <th>0</th>\n      <td>M1B</td>\n      <td>43.806686</td>\n      <td>-79.194353</td>\n    </tr>\n    <tr>\n      <th>1</th>\n      <td>M1C</td>\n      <td>43.784535</td>\n      <td>-79.160497</td>\n    </tr>\n  </tbody>\n</table>\n</div>", 
                        "text/plain": "  PostalCode   Latitude  Longitude\n0        M1B  43.806686 -79.194353\n1        M1C  43.784535 -79.160497"
                    }, 
                    "execution_count": 10, 
                    "metadata": {}
                }
            ], 
            "execution_count": 10
        }, 
        {
            "source": "<h2>Merge the two csv files</h2>", 
            "cell_type": "markdown", 
            "metadata": {}
        }, 
        {
            "source": "df_mer=pd.merge(df_tcf, df_gc, how='left', on='PostalCode')\n\ndf_mer.head(12)", 
            "cell_type": "code", 
            "metadata": {}, 
            "outputs": [
                {
                    "output_type": "execute_result", 
                    "data": {
                        "text/html": "<div>\n<style scoped>\n    .dataframe tbody tr th:only-of-type {\n        vertical-align: middle;\n    }\n\n    .dataframe tbody tr th {\n        vertical-align: top;\n    }\n\n    .dataframe thead th {\n        text-align: right;\n    }\n</style>\n<table border=\"1\" class=\"dataframe\">\n  <thead>\n    <tr style=\"text-align: right;\">\n      <th></th>\n      <th>PostalCode</th>\n      <th>Borough</th>\n      <th>Neighborhood</th>\n      <th>Latitude</th>\n      <th>Longitude</th>\n    </tr>\n  </thead>\n  <tbody>\n    <tr>\n      <th>0</th>\n      <td>M1B</td>\n      <td>Scarborough</td>\n      <td>Rouge, Malvern</td>\n      <td>43.806686</td>\n      <td>-79.194353</td>\n    </tr>\n    <tr>\n      <th>1</th>\n      <td>M1C</td>\n      <td>Scarborough</td>\n      <td>Highland Creek, Rouge Hill, Port Union</td>\n      <td>43.784535</td>\n      <td>-79.160497</td>\n    </tr>\n    <tr>\n      <th>2</th>\n      <td>M1E</td>\n      <td>Scarborough</td>\n      <td>Guildwood, Morningside, West Hill</td>\n      <td>43.763573</td>\n      <td>-79.188711</td>\n    </tr>\n    <tr>\n      <th>3</th>\n      <td>M1G</td>\n      <td>Scarborough</td>\n      <td>Woburn</td>\n      <td>43.770992</td>\n      <td>-79.216917</td>\n    </tr>\n    <tr>\n      <th>4</th>\n      <td>M1H</td>\n      <td>Scarborough</td>\n      <td>Cedarbrae</td>\n      <td>43.773136</td>\n      <td>-79.239476</td>\n    </tr>\n    <tr>\n      <th>5</th>\n      <td>M1J</td>\n      <td>Scarborough</td>\n      <td>Scarborough Village</td>\n      <td>43.744734</td>\n      <td>-79.239476</td>\n    </tr>\n    <tr>\n      <th>6</th>\n      <td>M1K</td>\n      <td>Scarborough</td>\n      <td>East Birchmount Park, Ionview, Kennedy Park</td>\n      <td>43.727929</td>\n      <td>-79.262029</td>\n    </tr>\n    <tr>\n      <th>7</th>\n      <td>M1L</td>\n      <td>Scarborough</td>\n      <td>Clairlea, Golden Mile, Oakridge</td>\n      <td>43.711112</td>\n      <td>-79.284577</td>\n    </tr>\n    <tr>\n      <th>8</th>\n      <td>M1M</td>\n      <td>Scarborough</td>\n      <td>Cliffcrest, Cliffside, Scarborough Village West</td>\n      <td>43.716316</td>\n      <td>-79.239476</td>\n    </tr>\n    <tr>\n      <th>9</th>\n      <td>M1N</td>\n      <td>Scarborough</td>\n      <td>Birch Cliff, Cliffside West</td>\n      <td>43.692657</td>\n      <td>-79.264848</td>\n    </tr>\n    <tr>\n      <th>10</th>\n      <td>M1P</td>\n      <td>Scarborough</td>\n      <td>Dorset Park, Scarborough Town Centre, Wexford ...</td>\n      <td>43.757410</td>\n      <td>-79.273304</td>\n    </tr>\n    <tr>\n      <th>11</th>\n      <td>M1R</td>\n      <td>Scarborough</td>\n      <td>Maryvale, Wexford</td>\n      <td>43.750072</td>\n      <td>-79.295849</td>\n    </tr>\n  </tbody>\n</table>\n</div>", 
                        "text/plain": "   PostalCode      Borough                                       Neighborhood  \\\n0         M1B  Scarborough                                     Rouge, Malvern   \n1         M1C  Scarborough             Highland Creek, Rouge Hill, Port Union   \n2         M1E  Scarborough                  Guildwood, Morningside, West Hill   \n3         M1G  Scarborough                                             Woburn   \n4         M1H  Scarborough                                          Cedarbrae   \n5         M1J  Scarborough                                Scarborough Village   \n6         M1K  Scarborough        East Birchmount Park, Ionview, Kennedy Park   \n7         M1L  Scarborough                    Clairlea, Golden Mile, Oakridge   \n8         M1M  Scarborough    Cliffcrest, Cliffside, Scarborough Village West   \n9         M1N  Scarborough                        Birch Cliff, Cliffside West   \n10        M1P  Scarborough  Dorset Park, Scarborough Town Centre, Wexford ...   \n11        M1R  Scarborough                                  Maryvale, Wexford   \n\n     Latitude  Longitude  \n0   43.806686 -79.194353  \n1   43.784535 -79.160497  \n2   43.763573 -79.188711  \n3   43.770992 -79.216917  \n4   43.773136 -79.239476  \n5   43.744734 -79.239476  \n6   43.727929 -79.262029  \n7   43.711112 -79.284577  \n8   43.716316 -79.239476  \n9   43.692657 -79.264848  \n10  43.757410 -79.273304  \n11  43.750072 -79.295849  "
                    }, 
                    "execution_count": 13, 
                    "metadata": {}
                }
            ], 
            "execution_count": 13
        }
    ], 
    "metadata": {
        "kernelspec": {
            "display_name": "Python 3.5", 
            "name": "python3", 
            "language": "python"
        }, 
        "language_info": {
            "mimetype": "text/x-python", 
            "nbconvert_exporter": "python", 
            "version": "3.5.5", 
            "name": "python", 
            "pygments_lexer": "ipython3", 
            "file_extension": ".py", 
            "codemirror_mode": {
                "version": 3, 
                "name": "ipython"
            }
        }
    }, 
    "nbformat": 4
}